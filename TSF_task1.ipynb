{
  "nbformat": 4,
  "nbformat_minor": 0,
  "metadata": {
    "colab": {
      "name": "TSF_task1.ipynb",
      "provenance": [],
      "authorship_tag": "ABX9TyMYuRZXv8Vu8S3BceTLB+WV",
      "include_colab_link": true
    },
    "kernelspec": {
      "name": "python3",
      "display_name": "Python 3"
    }
  },
  "cells": [
    {
      "cell_type": "markdown",
      "metadata": {
        "id": "view-in-github",
        "colab_type": "text"
      },
      "source": [
        "<a href=\"https://colab.research.google.com/github/durgasanjana7876/-task-1/blob/main/TSF_task1.ipynb\" target=\"_parent\"><img src=\"https://colab.research.google.com/assets/colab-badge.svg\" alt=\"Open In Colab\"/></a>"
      ]
    },
    {
      "cell_type": "code",
      "metadata": {
        "id": "VKwVHu4wxZCP"
      },
      "source": [
        ""
      ],
      "execution_count": null,
      "outputs": []
    },
    {
      "cell_type": "markdown",
      "metadata": {
        "id": "2RpG-SvvyMBb"
      },
      "source": [
        "#**Predicting the percentage of marks of an student based on the number of\n",
        "# study hours using Supervised ML - BEGINNER LEVEL**"
      ]
    },
    {
      "cell_type": "markdown",
      "metadata": {
        "id": "KI3JYNTOy3q5"
      },
      "source": [
        "Importing the libraries"
      ]
    },
    {
      "cell_type": "code",
      "metadata": {
        "id": "dgX1RAx1xxhi"
      },
      "source": [
        "#importing the required libraries for this task-1\n",
        "import pandas as pd\n",
        "import numpy as np\n",
        "import matplotlib.pyplot as plt"
      ],
      "execution_count": 3,
      "outputs": []
    },
    {
      "cell_type": "markdown",
      "metadata": {
        "id": "Ca8PFB3ZznQa"
      },
      "source": [
        "Reading and displaying the Data"
      ]
    },
    {
      "cell_type": "code",
      "metadata": {
        "id": "iv9mr_y2zveD",
        "outputId": "adf91045-a732-456e-9aeb-0bc366ab3b3c",
        "colab": {
          "base_uri": "https://localhost:8080/"
        }
      },
      "source": [
        "url = \"http://bit.ly/w-data\"  #dataset\n",
        "d = pd.read_csv(url)\n",
        "print(d)\n",
        "print(\"Data imported successfully\")"
      ],
      "execution_count": 4,
      "outputs": [
        {
          "output_type": "stream",
          "text": [
            "    Hours  Scores\n",
            "0     2.5      21\n",
            "1     5.1      47\n",
            "2     3.2      27\n",
            "3     8.5      75\n",
            "4     3.5      30\n",
            "5     1.5      20\n",
            "6     9.2      88\n",
            "7     5.5      60\n",
            "8     8.3      81\n",
            "9     2.7      25\n",
            "10    7.7      85\n",
            "11    5.9      62\n",
            "12    4.5      41\n",
            "13    3.3      42\n",
            "14    1.1      17\n",
            "15    8.9      95\n",
            "16    2.5      30\n",
            "17    1.9      24\n",
            "18    6.1      67\n",
            "19    7.4      69\n",
            "20    2.7      30\n",
            "21    4.8      54\n",
            "22    3.8      35\n",
            "23    6.9      76\n",
            "24    7.8      86\n",
            "Data imported successfully\n"
          ],
          "name": "stdout"
        }
      ]
    },
    {
      "cell_type": "markdown",
      "metadata": {
        "id": "X8bADXph3YrP"
      },
      "source": [
        "**DATA VISUALISATION** in the form of **SCATTER PLOT** graph"
      ]
    },
    {
      "cell_type": "code",
      "metadata": {
        "id": "I21sUq9L3rZy",
        "outputId": "9230de93-6f5e-495a-b126-21cf601e3f74",
        "colab": {
          "base_uri": "https://localhost:8080/",
          "height": 295
        }
      },
      "source": [
        "d.plot(x= 'Hours' , y='Scores' , style= '*' , color= 'blue')\n",
        "plt.title('Hours vs percentage')\n",
        "plt.xlabel('Hours Studied')\n",
        "plt.show()"
      ],
      "execution_count": 5,
      "outputs": [
        {
          "output_type": "display_data",
          "data": {
            "image/png": "[encoded data removed]",
            "text/plain": [
              "<Figure size 432x288 with 1 Axes>"
            ]
          },
          "metadata": {
            "tags": [],
            "needs_background": "light"
          }
        }
      ]
    },
    {
      "cell_type": "markdown",
      "metadata": {
        "id": "w2EqTrq547lQ"
      },
      "source": [
        "**Displaying Array Consisting Hours**"
      ]
    },
    {
      "cell_type": "code",
      "metadata": {
        "id": "6NNjaHTa5E2s",
        "outputId": "7213da7d-131e-4c34-a206-3574efbc4668",
        "colab": {
          "base_uri": "https://localhost:8080/"
        }
      },
      "source": [
        "x = d.iloc[: , 0:1].values\n",
        "x"
      ],
      "execution_count": 7,
      "outputs": [
        {
          "output_type": "execute_result",
          "data": {
            "text/plain": [
              "array([[2.5],\n",
              "       [5.1],\n",
              "       [3.2],\n",
              "       [8.5],\n",
              "       [3.5],\n",
              "       [1.5],\n",
              "       [9.2],\n",
              "       [5.5],\n",
              "       [8.3],\n",
              "       [2.7],\n",
              "       [7.7],\n",
              "       [5.9],\n",
              "       [4.5],\n",
              "       [3.3],\n",
              "       [1.1],\n",
              "       [8.9],\n",
              "       [2.5],\n",
              "       [1.9],\n",
              "       [6.1],\n",
              "       [7.4],\n",
              "       [2.7],\n",
              "       [4.8],\n",
              "       [3.8],\n",
              "       [6.9],\n",
              "       [7.8]])"
            ]
          },
          "metadata": {
            "tags": []
          },
          "execution_count": 7
        }
      ]
    },
    {
      "cell_type": "markdown",
      "metadata": {
        "id": "MGyIR1UD5TQq"
      },
      "source": [
        "**Displaying array consisting Scores**"
      ]
    },
    {
      "cell_type": "code",
      "metadata": {
        "id": "QSBVrdiH5cFM",
        "outputId": "1230b445-115c-4ebc-dda1-e4356d6dec8d",
        "colab": {
          "base_uri": "https://localhost:8080/"
        }
      },
      "source": [
        "y = d.iloc[: , 1:2].values\n",
        "y"
      ],
      "execution_count": 8,
      "outputs": [
        {
          "output_type": "execute_result",
          "data": {
            "text/plain": [
              "array([[21],\n",
              "       [47],\n",
              "       [27],\n",
              "       [75],\n",
              "       [30],\n",
              "       [20],\n",
              "       [88],\n",
              "       [60],\n",
              "       [81],\n",
              "       [25],\n",
              "       [85],\n",
              "       [62],\n",
              "       [41],\n",
              "       [42],\n",
              "       [17],\n",
              "       [95],\n",
              "       [30],\n",
              "       [24],\n",
              "       [67],\n",
              "       [69],\n",
              "       [30],\n",
              "       [54],\n",
              "       [35],\n",
              "       [76],\n",
              "       [86]])"
            ]
          },
          "metadata": {
            "tags": []
          },
          "execution_count": 8
        }
      ]
    },
    {
      "cell_type": "markdown",
      "metadata": {
        "id": "CxJP7BaS5oH8"
      },
      "source": [
        "**Seperating the sets of train and test**"
      ]
    },
    {
      "cell_type": "code",
      "metadata": {
        "id": "1EIDuQMQ5umC"
      },
      "source": [
        "from sklearn.model_selection import train_test_split\n",
        "x_train, x_test, y_train, y_test=train_test_split(x,y,test_size=0.3,random_state=0)"
      ],
      "execution_count": 10,
      "outputs": []
    },
    {
      "cell_type": "code",
      "metadata": {
        "id": "loeesBv86MW9",
        "outputId": "5c85b069-4320-44b1-f6f0-7a5ef3ee2138",
        "colab": {
          "base_uri": "https://localhost:8080/"
        }
      },
      "source": [
        "x_train"
      ],
      "execution_count": 11,
      "outputs": [
        {
          "output_type": "execute_result",
          "data": {
            "text/plain": [
              "array([[6.9],\n",
              "       [1.1],\n",
              "       [5.1],\n",
              "       [7.7],\n",
              "       [3.3],\n",
              "       [8.3],\n",
              "       [9.2],\n",
              "       [6.1],\n",
              "       [3.5],\n",
              "       [2.7],\n",
              "       [5.5],\n",
              "       [2.7],\n",
              "       [8.5],\n",
              "       [2.5],\n",
              "       [4.8],\n",
              "       [8.9],\n",
              "       [4.5]])"
            ]
          },
          "metadata": {
            "tags": []
          },
          "execution_count": 11
        }
      ]
    },
    {
      "cell_type": "code",
      "metadata": {
        "id": "JHYOYUSa6XXV",
        "outputId": "1da7f34c-255a-417d-f6c1-a80c723f789e",
        "colab": {
          "base_uri": "https://localhost:8080/"
        }
      },
      "source": [
        "y_train"
      ],
      "execution_count": 12,
      "outputs": [
        {
          "output_type": "execute_result",
          "data": {
            "text/plain": [
              "array([[76],\n",
              "       [17],\n",
              "       [47],\n",
              "       [85],\n",
              "       [42],\n",
              "       [81],\n",
              "       [88],\n",
              "       [67],\n",
              "       [30],\n",
              "       [25],\n",
              "       [60],\n",
              "       [30],\n",
              "       [75],\n",
              "       [21],\n",
              "       [54],\n",
              "       [95],\n",
              "       [41]])"
            ]
          },
          "metadata": {
            "tags": []
          },
          "execution_count": 12
        }
      ]
    },
    {
      "cell_type": "markdown",
      "metadata": {
        "id": "zSFmHD5o6gdW"
      },
      "source": [
        "**Predicting Hours and Scores**"
      ]
    },
    {
      "cell_type": "code",
      "metadata": {
        "id": "6oH79Tc86nEI",
        "outputId": "5bc3a454-4b91-49e8-cf3f-e037e2c06e06",
        "colab": {
          "base_uri": "https://localhost:8080/"
        }
      },
      "source": [
        "#predicted Hours\n",
        "x_test"
      ],
      "execution_count": 13,
      "outputs": [
        {
          "output_type": "execute_result",
          "data": {
            "text/plain": [
              "array([[1.5],\n",
              "       [3.2],\n",
              "       [7.4],\n",
              "       [2.5],\n",
              "       [5.9],\n",
              "       [3.8],\n",
              "       [1.9],\n",
              "       [7.8]])"
            ]
          },
          "metadata": {
            "tags": []
          },
          "execution_count": 13
        }
      ]
    },
    {
      "cell_type": "code",
      "metadata": {
        "id": "DBoN__SR60yP",
        "outputId": "c3fd498d-bf21-471e-ded8-a9de49351d43",
        "colab": {
          "base_uri": "https://localhost:8080/"
        }
      },
      "source": [
        "#predicted scores\n",
        "y_test"
      ],
      "execution_count": 14,
      "outputs": [
        {
          "output_type": "execute_result",
          "data": {
            "text/plain": [
              "array([[20],\n",
              "       [27],\n",
              "       [69],\n",
              "       [30],\n",
              "       [62],\n",
              "       [35],\n",
              "       [24],\n",
              "       [86]])"
            ]
          },
          "metadata": {
            "tags": []
          },
          "execution_count": 14
        }
      ]
    },
    {
      "cell_type": "markdown",
      "metadata": {
        "id": "yYmMniud7I4o"
      },
      "source": [
        "**Data visualisation of train and test sets**"
      ]
    },
    {
      "cell_type": "code",
      "metadata": {
        "id": "nwHFnV247QIP",
        "outputId": "e1ee42fb-d7b7-47bd-cae9-5f2984118774",
        "colab": {
          "base_uri": "https://localhost:8080/",
          "height": 282
        }
      },
      "source": [
        "plt.scatter(x_train, y_train)"
      ],
      "execution_count": 16,
      "outputs": [
        {
          "output_type": "execute_result",
          "data": {
            "text/plain": [
              "<matplotlib.collections.PathCollection at 0x7f99f62bc8d0>"
            ]
          },
          "metadata": {
            "tags": []
          },
          "execution_count": 16
        },
        {
          "output_type": "display_data",
          "data": {
            "image/png": "[encoded data removed]",
            "text/plain": [
              "<Figure size 432x288 with 1 Axes>"
            ]
          },
          "metadata": {
            "tags": [],
            "needs_background": "light"
          }
        }
      ]
    },
    {
      "cell_type": "code",
      "metadata": {
        "id": "82GLmwS37fK7",
        "outputId": "c318017a-ecbd-4742-c2a6-a2feb7f9ce1e",
        "colab": {
          "base_uri": "https://localhost:8080/",
          "height": 282
        }
      },
      "source": [
        "plt.scatter(x_test, y_test)"
      ],
      "execution_count": 17,
      "outputs": [
        {
          "output_type": "execute_result",
          "data": {
            "text/plain": [
              "<matplotlib.collections.PathCollection at 0x7f99f62b7be0>"
            ]
          },
          "metadata": {
            "tags": []
          },
          "execution_count": 17
        },
        {
          "output_type": "display_data",
          "data": {
            "image/png": "[encoded data removed]",
            "text/plain": [
              "<Figure size 432x288 with 1 Axes>"
            ]
          },
          "metadata": {
            "tags": [],
            "needs_background": "light"
          }
        }
      ]
    },
    {
      "cell_type": "markdown",
      "metadata": {
        "id": "GfhuLlhb7xLQ"
      },
      "source": [
        "**Linear Regression**"
      ]
    },
    {
      "cell_type": "code",
      "metadata": {
        "id": "7JClzvJ172BK",
        "outputId": "efeaea85-23cb-42e1-82ea-ee60fbb1b12c",
        "colab": {
          "base_uri": "https://localhost:8080/"
        }
      },
      "source": [
        "from sklearn.linear_model import LinearRegression\n",
        "lr= LinearRegression()\n",
        "lr.fit(x_train, y_train)"
      ],
      "execution_count": 18,
      "outputs": [
        {
          "output_type": "execute_result",
          "data": {
            "text/plain": [
              "LinearRegression(copy_X=True, fit_intercept=True, n_jobs=None, normalize=False)"
            ]
          },
          "metadata": {
            "tags": []
          },
          "execution_count": 18
        }
      ]
    },
    {
      "cell_type": "markdown",
      "metadata": {
        "id": "QCH4iyWw8Pj_"
      },
      "source": [
        "**Plotting the Regression line**"
      ]
    },
    {
      "cell_type": "code",
      "metadata": {
        "id": "pkUKIpdh8XUh",
        "outputId": "223168c6-84d8-4b8a-bf4a-c7c5d0b9de15",
        "colab": {
          "base_uri": "https://localhost:8080/",
          "height": 265
        }
      },
      "source": [
        "#plotting the regression line\n",
        "line = lr.coef_*x+lr.intercept_\n",
        "\n",
        "#plotting for the test data\n",
        "plt.scatter(x,y)\n",
        "plt.plot(x, line, color=\"orange\");\n",
        "plt.show()"
      ],
      "execution_count": 19,
      "outputs": [
        {
          "output_type": "display_data",
          "data": {
            "image/png": "[encoded data removed]",
            "text/plain": [
              "<Figure size 432x288 with 1 Axes>"
            ]
          },
          "metadata": {
            "tags": [],
            "needs_background": "light"
          }
        }
      ]
    },
    {
      "cell_type": "markdown",
      "metadata": {
        "id": "swKf63V587lB"
      },
      "source": [
        "**Predicted scores and actual scores**"
      ]
    },
    {
      "cell_type": "code",
      "metadata": {
        "id": "0DsSHuQu9B_S",
        "outputId": "ed071213-8984-482e-c7e0-196453542220",
        "colab": {
          "base_uri": "https://localhost:8080/"
        }
      },
      "source": [
        "y_predict=lr.predict(x_test) #predicting the scores of the students using number of hours\n",
        "y_predict"
      ],
      "execution_count": 20,
      "outputs": [
        {
          "output_type": "execute_result",
          "data": {
            "text/plain": [
              "array([[17.05366541],\n",
              "       [33.69422878],\n",
              "       [74.80620886],\n",
              "       [26.8422321 ],\n",
              "       [60.12335883],\n",
              "       [39.56736879],\n",
              "       [20.96909209],\n",
              "       [78.72163554]])"
            ]
          },
          "metadata": {
            "tags": []
          },
          "execution_count": 20
        }
      ]
    },
    {
      "cell_type": "code",
      "metadata": {
        "id": "_TcBKpUv9VZp",
        "outputId": "00c8dd82-8280-4b40-d744-e23af55ba301",
        "colab": {
          "base_uri": "https://localhost:8080/"
        }
      },
      "source": [
        "y_test  #printing the actual scores for number of hours"
      ],
      "execution_count": 21,
      "outputs": [
        {
          "output_type": "execute_result",
          "data": {
            "text/plain": [
              "array([[20],\n",
              "       [27],\n",
              "       [69],\n",
              "       [30],\n",
              "       [62],\n",
              "       [35],\n",
              "       [24],\n",
              "       [86]])"
            ]
          },
          "metadata": {
            "tags": []
          },
          "execution_count": 21
        }
      ]
    },
    {
      "cell_type": "markdown",
      "metadata": {
        "id": "fke8F7-q9gjj"
      },
      "source": [
        "**What will be predicted score if a student studies for 9.25 hrs/day?**"
      ]
    },
    {
      "cell_type": "code",
      "metadata": {
        "id": "on-6ljEX9tLj",
        "outputId": "c2d39abb-ccab-4e46-a5ec-6783af7c57f4",
        "colab": {
          "base_uri": "https://localhost:8080/"
        }
      },
      "source": [
        "#What will be predicted score if a student studies for 9.25 hrs/day?\n",
        "lr.predict([[9.25]])"
      ],
      "execution_count": 22,
      "outputs": [
        {
          "output_type": "execute_result",
          "data": {
            "text/plain": [
              "array([[92.91505723]])"
            ]
          },
          "metadata": {
            "tags": []
          },
          "execution_count": 22
        }
      ]
    },
    {
      "cell_type": "code",
      "metadata": {
        "id": "Qe4TZFgS9_wV",
        "outputId": "6e71c8ed-ba2b-48bb-ad1a-ef7b48399938",
        "colab": {
          "base_uri": "https://localhost:8080/"
        }
      },
      "source": [
        "#Evaluation\n",
        "from sklearn.metrics import r2_score\n",
        "r2_score(y_test, y_predict)"
      ],
      "execution_count": 23,
      "outputs": [
        {
          "output_type": "execute_result",
          "data": {
            "text/plain": [
              "0.9568211104435257"
            ]
          },
          "metadata": {
            "tags": []
          },
          "execution_count": 23
        }
      ]
    }
  ]
}